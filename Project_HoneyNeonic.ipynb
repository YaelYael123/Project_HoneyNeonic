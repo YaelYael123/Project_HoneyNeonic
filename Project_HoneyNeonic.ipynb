{
 "cells": [
  {
   "cell_type": "markdown",
   "id": "d077d6e2-6e91-4388-8455-90299be8d912",
   "metadata": {},
   "source": [
    "### Our Pro"
   ]
  },
  {
   "cell_type": "code",
   "execution_count": null,
   "id": "ec98179d-8a07-473b-95ba-b7f1dd3426d9",
   "metadata": {},
   "outputs": [],
   "source": [
    "import pandas as pd\n",
    "import numpy as np\n",
    "import matplotlib.pyplot as plt\n",
    "import seaborn as sns"
   ]
  },
  {
   "cell_type": "code",
   "execution_count": null,
   "id": "35587083-d84e-41f3-8f84-4b81fc6d2523",
   "metadata": {},
   "outputs": [],
   "source": [
    "url = 'https://raw.githubusercontent.com/YaelYael123/Project_HoneyNeonic/main/vHoneyNeonic_v03.csv'\n",
    "HoneyNeonic = pd.read_csv(url)\n",
    "HoneyNeonic.head()"
   ]
  },
  {
   "cell_type": "code",
   "execution_count": null,
   "id": "60802caa-b099-4d76-874b-8c49ea21997a",
   "metadata": {},
   "outputs": [],
   "source": []
  }
 ],
 "metadata": {
  "kernelspec": {
   "display_name": "Python 3 (ipykernel)",
   "language": "python",
   "name": "python3"
  },
  "language_info": {
   "codemirror_mode": {
    "name": "ipython",
    "version": 3
   },
   "file_extension": ".py",
   "mimetype": "text/x-python",
   "name": "python",
   "nbconvert_exporter": "python",
   "pygments_lexer": "ipython3",
   "version": "3.9.2"
  }
 },
 "nbformat": 4,
 "nbformat_minor": 5
}
